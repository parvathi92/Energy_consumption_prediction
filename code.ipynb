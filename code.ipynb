{
 "cells": [
  {
   "cell_type": "code",
   "execution_count": 7,
   "metadata": {},
   "outputs": [],
   "source": [
    "# Import libraries\n",
    "import math\n",
    "import numpy as np\n",
    "import pandas as pd\n",
    "import seaborn as sns\n",
    "from sklearn.linear_model import LinearRegression\n",
    "from sklearn.model_selection import cross_validate\n",
    "from sklearn.model_selection import train_test_split\n",
    "from sklearn.model_selection import cross_val_score\n",
    "from sklearn.metrics import accuracy_score\n",
    "import joblib"
   ]
  },
  {
   "cell_type": "code",
   "execution_count": 4,
   "metadata": {},
   "outputs": [
    {
     "data": {
      "text/html": [
       "<div>\n",
       "<style scoped>\n",
       "    .dataframe tbody tr th:only-of-type {\n",
       "        vertical-align: middle;\n",
       "    }\n",
       "\n",
       "    .dataframe tbody tr th {\n",
       "        vertical-align: top;\n",
       "    }\n",
       "\n",
       "    .dataframe thead th {\n",
       "        text-align: right;\n",
       "    }\n",
       "</style>\n",
       "<table border=\"1\" class=\"dataframe\">\n",
       "  <thead>\n",
       "    <tr style=\"text-align: right;\">\n",
       "      <th></th>\n",
       "      <th>Gross_area</th>\n",
       "      <th>No_of_bedrooms</th>\n",
       "      <th>Occupancy</th>\n",
       "      <th>No_of_cooling_units</th>\n",
       "      <th>No_of_HV_appl</th>\n",
       "      <th>No_of_lighting_units</th>\n",
       "      <th>Average_thermostat_temp</th>\n",
       "      <th>Outside_temp</th>\n",
       "      <th>Consumption</th>\n",
       "    </tr>\n",
       "  </thead>\n",
       "  <tbody>\n",
       "    <tr>\n",
       "      <th>0</th>\n",
       "      <td>1200</td>\n",
       "      <td>2</td>\n",
       "      <td>5</td>\n",
       "      <td>2</td>\n",
       "      <td>5</td>\n",
       "      <td>10</td>\n",
       "      <td>27</td>\n",
       "      <td>35</td>\n",
       "      <td>230</td>\n",
       "    </tr>\n",
       "    <tr>\n",
       "      <th>1</th>\n",
       "      <td>600</td>\n",
       "      <td>1</td>\n",
       "      <td>2</td>\n",
       "      <td>1</td>\n",
       "      <td>4</td>\n",
       "      <td>8</td>\n",
       "      <td>25</td>\n",
       "      <td>40</td>\n",
       "      <td>150</td>\n",
       "    </tr>\n",
       "    <tr>\n",
       "      <th>2</th>\n",
       "      <td>400</td>\n",
       "      <td>1</td>\n",
       "      <td>1</td>\n",
       "      <td>1</td>\n",
       "      <td>5</td>\n",
       "      <td>11</td>\n",
       "      <td>22</td>\n",
       "      <td>45</td>\n",
       "      <td>150</td>\n",
       "    </tr>\n",
       "    <tr>\n",
       "      <th>3</th>\n",
       "      <td>1500</td>\n",
       "      <td>2</td>\n",
       "      <td>4</td>\n",
       "      <td>3</td>\n",
       "      <td>6</td>\n",
       "      <td>12</td>\n",
       "      <td>26</td>\n",
       "      <td>33</td>\n",
       "      <td>250</td>\n",
       "    </tr>\n",
       "    <tr>\n",
       "      <th>4</th>\n",
       "      <td>2000</td>\n",
       "      <td>3</td>\n",
       "      <td>7</td>\n",
       "      <td>4</td>\n",
       "      <td>8</td>\n",
       "      <td>15</td>\n",
       "      <td>20</td>\n",
       "      <td>48</td>\n",
       "      <td>300</td>\n",
       "    </tr>\n",
       "  </tbody>\n",
       "</table>\n",
       "</div>"
      ],
      "text/plain": [
       "   Gross_area   No_of_bedrooms  Occupancy  No_of_cooling_units  No_of_HV_appl  \\\n",
       "0         1200               2          5                    2              5   \n",
       "1          600               1          2                    1              4   \n",
       "2          400               1          1                    1              5   \n",
       "3         1500               2          4                    3              6   \n",
       "4         2000               3          7                    4              8   \n",
       "\n",
       "   No_of_lighting_units  Average_thermostat_temp  Outside_temp  Consumption  \n",
       "0                    10                       27            35          230  \n",
       "1                     8                       25            40          150  \n",
       "2                    11                       22            45          150  \n",
       "3                    12                       26            33          250  \n",
       "4                    15                       20            48          300  "
      ]
     },
     "execution_count": 4,
     "metadata": {},
     "output_type": "execute_result"
    }
   ],
   "source": [
    "# Load the data\n",
    "df = pd.read_csv('C:\\Projects\\Streamlit_project\\electricity_usage.csv')\n",
    "# View the data\n",
    "df.head()\n",
    "#print(df.head())\n"
   ]
  },
  {
   "cell_type": "code",
   "execution_count": 6,
   "metadata": {},
   "outputs": [
    {
     "data": {
      "text/plain": [
       "0    230\n",
       "1    150\n",
       "2    150\n",
       "3    250\n",
       "4    300\n",
       "Name: Consumption, dtype: int64"
      ]
     },
     "execution_count": 6,
     "metadata": {},
     "output_type": "execute_result"
    }
   ],
   "source": [
    "# Define the predictors and output variable\n",
    "X = df.drop(axis=1,columns=['Consumption'])\n",
    "y = df['Consumption']\n",
    "\n",
    "X.head()\n",
    "y.head()"
   ]
  },
  {
   "cell_type": "code",
   "execution_count": 8,
   "metadata": {},
   "outputs": [
    {
     "name": "stdout",
     "output_type": "stream",
     "text": [
      "[195.23850771 275.73566173 201.04699248 181.88506371 208.40414952\n",
      " 371.69543495]\n"
     ]
    }
   ],
   "source": [
    "# Train test split\n",
    "X_train, X_test, y_train, y_test = train_test_split(X,y,train_size=.8)\n",
    "\n",
    "# Modelling\n",
    "# Linear regression\n",
    "lreg = LinearRegression(fit_intercept=False)\n",
    "lreg.fit(X_train,y_train)\n",
    "y_train_pred = lreg.predict(X_train)\n",
    "y_test_pred = lreg.predict(X_test)\n",
    "print(y_test_pred)"
   ]
  },
  {
   "cell_type": "code",
   "execution_count": 9,
   "metadata": {},
   "outputs": [
    {
     "name": "stdout",
     "output_type": "stream",
     "text": [
      "[-1.52511353e-02 -3.86652124e+00  2.05079803e+01  4.06361688e+00\n",
      "  8.43757441e+00  7.35715704e+00  3.48010466e+00 -7.44687044e-01]\n",
      "0.0\n"
     ]
    }
   ],
   "source": [
    "# Save the weights as a pickle file\n",
    "joblib.dump(lreg.coef_, \"reg_coef.pkl\")\n",
    "joblib.dump(lreg.intercept_, \"reg_intercept.pkl\")\n",
    "print(lreg.coef_)\n",
    "print(lreg.intercept_)"
   ]
  },
  {
   "cell_type": "code",
   "execution_count": 11,
   "metadata": {},
   "outputs": [
    {
     "name": "stdout",
     "output_type": "stream",
     "text": [
      "    Gross_area   No_of_bedrooms  Occupancy  No_of_cooling_units  \\\n",
      "0          1200               2          5                    2   \n",
      "1           600               1          2                    1   \n",
      "2           400               1          1                    1   \n",
      "3          1500               2          4                    3   \n",
      "4          2000               3          7                    4   \n",
      "5           900               2          3                    2   \n",
      "6          2500               4          8                    5   \n",
      "7           500               1          2                    1   \n",
      "8          1250               2          4                    2   \n",
      "9          1050               1          2                    1   \n",
      "10          950               2          4                    2   \n",
      "11          450               1          3                    1   \n",
      "12          300               1          2                    1   \n",
      "13         1800               2          6                    3   \n",
      "14          750               1          2                    1   \n",
      "15          550               1          1                    1   \n",
      "16         1150               2          3                    2   \n",
      "17         1500               2          5                    3   \n",
      "18         2400               3          9                    4   \n",
      "19         1000               1          2                    2   \n",
      "20         3000               3          6                    4   \n",
      "21          950               2          4                    2   \n",
      "22          450               1          3                    1   \n",
      "23          300               1          1                    1   \n",
      "24         1500               3          6                    3   \n",
      "25          800               2          2                    1   \n",
      "26          600               1          1                    1   \n",
      "27         1050               2          3                    2   \n",
      "28         1600               2          5                    3   \n",
      "29         2200               3          9                    4   \n",
      "\n",
      "    No_of_HV_appl  No_of_lighting_units  Average_thermostat_temp  Outside_temp  \n",
      "0               5                    10                       27            35  \n",
      "1               4                     8                       25            40  \n",
      "2               5                    11                       22            45  \n",
      "3               6                    12                       26            33  \n",
      "4               8                    15                       20            48  \n",
      "5               5                     7                       28            35  \n",
      "6              10                    20                       23            40  \n",
      "7               4                     8                       21            42  \n",
      "8               6                    10                       24            38  \n",
      "9               6                    11                       28            30  \n",
      "10              6                    12                       26            29  \n",
      "11              4                     8                       25            35  \n",
      "12              4                     9                       22            40  \n",
      "13              6                    10                       25            39  \n",
      "14              5                     8                       26            35  \n",
      "15              4                    10                       20            45  \n",
      "16              8                    11                       26            34  \n",
      "17              7                     8                       23            43  \n",
      "18             10                    20                       25            30  \n",
      "19              6                    10                       25            33  \n",
      "20              8                    20                       28            30  \n",
      "21              6                     8                       26            29  \n",
      "22              4                     7                       25            35  \n",
      "23              4                     6                       22            40  \n",
      "24              7                    10                       25            39  \n",
      "25              5                     8                       26            35  \n",
      "26              4                     7                       20            45  \n",
      "27              8                    10                       26            34  \n",
      "28              7                    11                       23            43  \n",
      "29             10                    20                       25            30  \n"
     ]
    }
   ],
   "source": [
    "print(X)"
   ]
  }
 ],
 "metadata": {
  "kernelspec": {
   "display_name": "streamlitenv",
   "language": "python",
   "name": "python3"
  },
  "language_info": {
   "codemirror_mode": {
    "name": "ipython",
    "version": 3
   },
   "file_extension": ".py",
   "mimetype": "text/x-python",
   "name": "python",
   "nbconvert_exporter": "python",
   "pygments_lexer": "ipython3",
   "version": "3.11.5"
  }
 },
 "nbformat": 4,
 "nbformat_minor": 2
}
